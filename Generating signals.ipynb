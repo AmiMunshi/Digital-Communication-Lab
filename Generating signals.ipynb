{
 "cells": [
  {
   "cell_type": "code",
   "execution_count": 30,
   "metadata": {},
   "outputs": [
    {
     "data": {
      "text/plain": [
       "<StemContainer object of 3 artists>"
      ]
     },
     "execution_count": 30,
     "metadata": {},
     "output_type": "execute_result"
    },
    {
     "data": {
      "image/png": "[encoded data removed]",
      "text/plain": [
       "<Figure size 432x288 with 1 Axes>"
      ]
     },
     "metadata": {
      "needs_background": "light"
     },
     "output_type": "display_data"
    }
   ],
   "source": [
    "#unit step u[n]\n",
    "import numpy as np\n",
    "import matplotlib.pyplot as plt\n",
    "unit=[]\n",
    "t= np.arange(-10,20,1)\n",
    "for sample in t:\n",
    "    if sample<0:\n",
    "        unit.append(0)\n",
    "    else:\n",
    "        unit.append(1)\n",
    "plt.stem(t,unit, use_line_collection=True)\n",
    "        "
   ]
  },
  {
   "cell_type": "code",
   "execution_count": 33,
   "metadata": {},
   "outputs": [],
   "source": [
    "#unit step u[n-a]\n",
    "#LL and UL are lower and upper limits of discrete time line\n",
    "def unit_step(a,n):\n",
    "    unit=[]\n",
    "    for sample in n:\n",
    "        if sample<a:\n",
    "            unit.append(0)\n",
    "        else:\n",
    "            unit.append(1)\n",
    "    return(unit)\n",
    "\n",
    "    "
   ]
  },
  {
   "cell_type": "code",
   "execution_count": 37,
   "metadata": {},
   "outputs": [
    {
     "name": "stdout",
     "output_type": "stream",
     "text": [
      "Enter a2\n",
      "Enter upper limit of the discrete time axis10\n",
      "Enter lower limit of the discrete time axis-10\n"
     ]
    },
    {
     "name": "stderr",
     "output_type": "stream",
     "text": [
      "C:\\Anaconda3\\lib\\site-packages\\ipykernel_launcher.py:9: UserWarning: In Matplotlib 3.3 individual lines on a stem plot will be added as a LineCollection instead of individual lines. This significantly improves the performance of a stem plot. To remove this warning and switch to the new behaviour, set the \"use_line_collection\" keyword argument to True.\n",
      "  if __name__ == '__main__':\n"
     ]
    },
    {
     "data": {
      "image/png": "[encoded data removed]",
      "text/plain": [
       "<Figure size 432x288 with 1 Axes>"
      ]
     },
     "metadata": {
      "needs_background": "light"
     },
     "output_type": "display_data"
    }
   ],
   "source": [
    "#plot unit step function u[n-a]\n",
    "import matplotlib.pyplot as plt\n",
    "import numpy as np\n",
    "a=int(input(\"Enter a\")) #Enter delay or advance\n",
    "UL= int(input(\"Enter upper limit of the discrete time axis\"))\n",
    "LL= int(input(\"Enter lower limit of the discrete time axis\"))\n",
    "n= np.arange(LL,UL,1)\n",
    "unit=unit_step(a,n)\n",
    "plt.stem(n,unit)\n",
    "plt.xlabel('n')\n",
    "plt.xticks(np.arange(LL,UL,1))\n",
    "plt.yticks([0,1])\n",
    "plt.ylabel('u[n]')\n",
    "plt.title('Unit step u[n-a]')\n",
    "plt.savefig('UnitStep.png')"
   ]
  },
  {
   "cell_type": "markdown",
   "metadata": {},
   "source": [
    "Generate unit impulse signal"
   ]
  },
  {
   "cell_type": "code",
   "execution_count": 38,
   "metadata": {},
   "outputs": [],
   "source": [
    "#To plot d(a). Impulse only at a\n",
    "\n",
    "def unit_impulse(a,n):\n",
    "    delta=[]\n",
    "    for sample in n:\n",
    "        if sample==a:\n",
    "            delta.append(1)\n",
    "        else:\n",
    "            delta.append(0)\n",
    "            \n",
    "    return delta\n",
    "        "
   ]
  },
  {
   "cell_type": "code",
   "execution_count": 41,
   "metadata": {},
   "outputs": [
    {
     "name": "stdout",
     "output_type": "stream",
     "text": [
      "Enter a4\n",
      "Enter upper limit of the discrete time axis10\n",
      "Enter lower limit of the discrete time axis-10\n"
     ]
    },
    {
     "name": "stderr",
     "output_type": "stream",
     "text": [
      "C:\\Anaconda3\\lib\\site-packages\\ipykernel_launcher.py:9: UserWarning: In Matplotlib 3.3 individual lines on a stem plot will be added as a LineCollection instead of individual lines. This significantly improves the performance of a stem plot. To remove this warning and switch to the new behaviour, set the \"use_line_collection\" keyword argument to True.\n",
      "  if __name__ == '__main__':\n"
     ]
    },
    {
     "data": {
      "image/png": "[encoded data removed]",
      "text/plain": [
       "<Figure size 432x288 with 1 Axes>"
      ]
     },
     "metadata": {
      "needs_background": "light"
     },
     "output_type": "display_data"
    }
   ],
   "source": [
    "import numpy as np\n",
    "import matplotlib.pyplot as plt\n",
    "\n",
    "a=int(input(\"Enter a\")) #Enter delay or advance\n",
    "UL= int(input(\"Enter upper limit of the discrete time axis\"))\n",
    "LL= int(input(\"Enter lower limit of the discrete time axis\"))\n",
    "n= np.arange(LL,UL,1)\n",
    "d=unit_impulse(a,n)\n",
    "plt.stem(n,d)\n",
    "plt.xlabel('n')\n",
    "plt.xticks(np.arange(LL,UL,1))\n",
    "plt.yticks([0,1])\n",
    "plt.ylabel('d[n]')\n",
    "plt.title('Unit Impulse d[4]')\n",
    "plt.savefig(\"UnitImpulse.png\")\n"
   ]
  },
  {
   "cell_type": "markdown",
   "metadata": {},
   "source": [
    "Generate unit ramp signal"
   ]
  },
  {
   "cell_type": "code",
   "execution_count": 42,
   "metadata": {},
   "outputs": [],
   "source": [
    "#To generate unit ramp signal r(n)\n",
    "#r(n)= n for n>=0, r(n)=0 otherwise\n",
    "\n",
    "def unit_ramp(n):\n",
    "    ramp=[]\n",
    "    for sample in n:\n",
    "        if sample<0:\n",
    "            ramp.append(0)\n",
    "        else:\n",
    "            ramp.append(sample)\n",
    "    return ramp\n",
    "            "
   ]
  },
  {
   "cell_type": "code",
   "execution_count": 44,
   "metadata": {},
   "outputs": [
    {
     "name": "stdout",
     "output_type": "stream",
     "text": [
      "Enter upper limit of the discrete time axis10\n",
      "Enter lower limit of the discrete time axis-10\n"
     ]
    },
    {
     "name": "stderr",
     "output_type": "stream",
     "text": [
      "C:\\Anaconda3\\lib\\site-packages\\ipykernel_launcher.py:8: UserWarning: In Matplotlib 3.3 individual lines on a stem plot will be added as a LineCollection instead of individual lines. This significantly improves the performance of a stem plot. To remove this warning and switch to the new behaviour, set the \"use_line_collection\" keyword argument to True.\n",
      "  \n"
     ]
    },
    {
     "data": {
      "image/png": "[encoded data removed]",
      "text/plain": [
       "<Figure size 432x288 with 1 Axes>"
      ]
     },
     "metadata": {
      "needs_background": "light"
     },
     "output_type": "display_data"
    }
   ],
   "source": [
    "import numpy as np\n",
    "import matplotlib.pyplot as plt\n",
    "\n",
    "UL= int(input(\"Enter upper limit of the discrete time axis\"))\n",
    "LL= int(input(\"Enter lower limit of the discrete time axis\"))\n",
    "n= np.arange(LL,UL,1)\n",
    "r=unit_ramp(n)\n",
    "plt.stem(n,r)\n",
    "plt.xlabel('n')\n",
    "plt.xticks(np.arange(LL,UL,1))\n",
    "plt.yticks([0,UL,1])\n",
    "plt.ylabel('r[n]')\n",
    "plt.title('Unit Ramp r[n]')\n",
    "plt.savefig(\"UnitRamp.png\")"
   ]
  },
  {
   "cell_type": "markdown",
   "metadata": {},
   "source": [
    "Generate Exponential Signals"
   ]
  },
  {
   "cell_type": "code",
   "execution_count": 25,
   "metadata": {},
   "outputs": [],
   "source": [
    "# Plot exponential signals e**(at)\n",
    "\n",
    "def exponential(a,n):\n",
    "    expo=[]\n",
    "    for sample in n:\n",
    "        expo.append(np.exp(a*sample))\n",
    "    return (expo)\n",
    "        "
   ]
  },
  {
   "cell_type": "code",
   "execution_count": 46,
   "metadata": {},
   "outputs": [
    {
     "name": "stdout",
     "output_type": "stream",
     "text": [
      "Enter a2\n",
      "Enter upper limit of the discrete time axis1\n",
      "Enter lower limit of the discrete time axis-1\n"
     ]
    },
    {
     "name": "stderr",
     "output_type": "stream",
     "text": [
      "C:\\Anaconda3\\lib\\site-packages\\ipykernel_launcher.py:8: UserWarning: In Matplotlib 3.3 individual lines on a stem plot will be added as a LineCollection instead of individual lines. This significantly improves the performance of a stem plot. To remove this warning and switch to the new behaviour, set the \"use_line_collection\" keyword argument to True.\n",
      "  \n"
     ]
    },
    {
     "data": {
      "image/png": "[encoded data removed]",
      "text/plain": [
       "<Figure size 432x288 with 1 Axes>"
      ]
     },
     "metadata": {
      "needs_background": "light"
     },
     "output_type": "display_data"
    }
   ],
   "source": [
    "import numpy as np\n",
    "import matplotlib.pyplot as plt\n",
    "a=int(input(\"Enter a\")) \n",
    "UL= int(input(\"Enter upper limit of the discrete time axis\"))\n",
    "LL= int(input(\"Enter lower limit of the discrete time axis\"))\n",
    "n= np.arange(LL,UL,0.1)\n",
    "x=exponential(a,n)\n",
    "plt.stem(n,x)\n",
    "plt.xlabel('n')\n",
    "plt.xticks(np.arange(LL,UL,0.2))\n",
    "#plt.yticks([0,UL,1])\n",
    "plt.ylabel('x[n]')\n",
    "plt.title('Exponential Signal e**(an)')\n",
    "plt.savefig(\"Exponential.png\")"
   ]
  },
  {
   "cell_type": "code",
   "execution_count": null,
   "metadata": {},
   "outputs": [],
   "source": []
  }
 ],
 "metadata": {
  "kernelspec": {
   "display_name": "Python 3",
   "language": "python",
   "name": "python3"
  },
  "language_info": {
   "codemirror_mode": {
    "name": "ipython",
    "version": 3
   },
   "file_extension": ".py",
   "mimetype": "text/x-python",
   "name": "python",
   "nbconvert_exporter": "python",
   "pygments_lexer": "ipython3",
   "version": "3.7.6"
  }
 },
 "nbformat": 4,
 "nbformat_minor": 4
}
